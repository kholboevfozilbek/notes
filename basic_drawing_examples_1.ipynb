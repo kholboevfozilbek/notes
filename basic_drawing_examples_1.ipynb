{
 "cells": [
  {
   "cell_type": "code",
   "execution_count": null,
   "metadata": {},
   "outputs": [],
   "source": [
    "import turtle\n",
    "t = turtle.Pen()\n",
    "\n",
    "for _ in range (6):\n",
    "    t.forward(100)\n",
    "    t.left(90)\n",
    "t.right(60)\n",
    "t.forward(100)\n",
    "t.left(120)\n",
    "t.forward(100)\n",
    "t.penup()\n",
    "t.forward(200)\n",
    "t.write(\"Name\", font=(\"Arial\", 18, \"normal\"))\n",
    "\n",
    "turtle.done()"
   ]
  }
 ],
 "metadata": {
  "language_info": {
   "name": "python"
  }
 },
 "nbformat": 4,
 "nbformat_minor": 2
}
