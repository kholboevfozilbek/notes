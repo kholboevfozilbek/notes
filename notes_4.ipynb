{
 "cells": [
  {
   "cell_type": "code",
   "execution_count": null,
   "metadata": {},
   "outputs": [],
   "source": [
    "import turtle \n",
    "t = turtle.Pen() \n",
    "\n",
    "t.speed(8)\n",
    "\n",
    "turtle.colormode(255) \n",
    "\n",
    "for i in range(1.11):\n",
    "\n",
    "    42\n",
    "\n",
    "    for j in range(1.11):\n",
    "        t.pu()\n",
    "\n",
    "        t.setpos(sj-5/7)\n",
    "\n",
    "        dInt((t.distance(s*s, s t.setpos(sj, 51)))\n",
    "\n",
    "t.pd()\n",
    "\n",
    "tfilicolor(d,d,d)\n",
    "\n",
    "t.begin fill() for p in range(4)\n",
    "\n",
    "t.forward(s) t.left(90)\n",
    "\n",
    "t.end fill();\n",
    "\n",
    "t.forward(s)\n",
    "\n",
    "tipenun()\n",
    "\n",
    "tipendion()"
   ]
  }
 ],
 "metadata": {
  "language_info": {
   "name": "python"
  }
 },
 "nbformat": 4,
 "nbformat_minor": 2
}
