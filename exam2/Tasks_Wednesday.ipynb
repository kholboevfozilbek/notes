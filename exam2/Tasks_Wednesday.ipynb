{
 "cells": [
  {
   "cell_type": "markdown",
   "id": "e6ce995b",
   "metadata": {},
   "source": [
    "__Task 1__\n",
    "\n",
    "Work with file __forecast.json__. \n",
    "\n",
    "The data is organized in the way written below\n",
    "```python\n",
    "{\n",
    "  \"current\": {\n",
    "    \"time\": \"2022-01-01T15:00\"\n",
    "    \"temperature_2m\": 2.4,\n",
    "    \"wind_speed_10m\": 11.9,\n",
    "  },\n",
    "  \"hourly\": {\n",
    "    \"time\": [\"2022-07-01T00:00\",\"2022-07-01T01:00\", ...]\n",
    "    \"wind_speed_10m\": [3.16,3.02,3.3,3.14,3.2,2.95, ...],\n",
    "    \"temperature_2m\": [13.7,13.3,12.8,12.3,11.8, ...],\n",
    "    \"relative_humidity_2m\": [82,83,86,85,88,88,84,76, ...],\n",
    "  }\n",
    "}\n",
    "```\n",
    "Find the `temerature_2m` at the time recorded as `'2024-06-10T04:00'`"
   ]
  },
  {
   "cell_type": "markdown",
   "id": "619d0759",
   "metadata": {},
   "source": [
    "__Task 2__:\n",
    "\n",
    "* Work with file __phases_soften.html__. It contains the description of four phases of software engineering. Display the title of each phase and the first paragraph after the title. For example, the first phase should be displayed in the following way\n",
    "\n",
    "Phase 1\n",
    "<br>\n",
    "This is where the application or software is created. Finding and fixing application security issues in this early stage is far less costly than waiting until after an application has been deployed, so empowering developers to create secure software from inception is critical.\n",
    "\n",
    "* Then choose the title for each phase from the following list: {Deployment, Development, Monitoring, Testing}\n",
    "\n",
    "__Hint__: If `element` is an element (found for example with `.find()` or `.find_all()` methods) then `element.find_next()` returns the next element. The tag name of the next element is optionally specified such that `element.find_next(\"a\")` is the next `a-tag` and `element.find_next(\"p\")` is the next `p-tag`"
   ]
  },
  {
   "cell_type": "markdown",
   "id": "b62b88a1",
   "metadata": {},
   "source": [
    "__Task 3__\n",
    "\n",
    "Work with file __covid_19_clean.csv__.\n",
    "\n",
    "1. Find the number of deaths in all countries altogether recored on June 1 2020.\n",
    "2. Find the Western Pacific countries (the value of the 'WHO Region' column is 'Western Pacific') such that the number of the confirmed cases (column 'Confirmed') on June 1 2020 is larger than the mean value of the confirmed cases in all countries (without any constrain on the value of the 'WHO Region') on the same day"
   ]
  },
  {
   "cell_type": "markdown",
   "id": "68015c2f",
   "metadata": {},
   "source": [
    "__Task 4__\n",
    "\n",
    "Function `cnst(i:int)` from file __cnst.py__ takes a single integer as the input parameter and return an integer. You are said the output and input integers are the same. Test this statement.\n",
    "\n",
    "You get 0.5 points in case of a correct test, but you can 1 point if your test is placed to the file with the opening lines\n",
    "```python\n",
    "import unittest\n",
    "from cnst import cnst\n",
    "class TestBuiltins(unittest.TestCase):\n",
    "```\n",
    "and the test is called from the command line. In case of _Jupyter notebook_, `!<command>` imitates the command line"
   ]
  },
  {
   "cell_type": "code",
   "execution_count": null,
   "id": "58d8cde8",
   "metadata": {},
   "outputs": [],
   "source": []
  }
 ],
 "metadata": {
  "kernelspec": {
   "display_name": "Python 3 (ipykernel)",
   "language": "python",
   "name": "python3"
  },
  "language_info": {
   "codemirror_mode": {
    "name": "ipython",
    "version": 3
   },
   "file_extension": ".py",
   "mimetype": "text/x-python",
   "name": "python",
   "nbconvert_exporter": "python",
   "pygments_lexer": "ipython3",
   "version": "3.11.7"
  }
 },
 "nbformat": 4,
 "nbformat_minor": 5
}
